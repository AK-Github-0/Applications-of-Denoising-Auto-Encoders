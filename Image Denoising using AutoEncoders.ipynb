{
 "cells": [
  {
   "cell_type": "markdown",
   "metadata": {
    "colab_type": "text",
    "id": "fr6pOOh0hHaj"
   },
   "source": [
    "### IMPORTING LIBRARIES AND  LOADING DATASET"
   ]
  },
  {
   "cell_type": "code",
   "execution_count": 55,
   "metadata": {
    "colab": {},
    "colab_type": "code",
    "id": "QqPjanlXkVzi"
   },
   "outputs": [],
   "source": [
    "import tensorflow as tf\n",
    "import pandas as pd\n",
    "import numpy as np\n",
    "import matplotlib.pyplot as plt\n",
    "import seaborn as sns\n",
    "import random "
   ]
  },
  {
   "cell_type": "code",
   "execution_count": 56,
   "metadata": {
    "colab": {
     "base_uri": "https://localhost:8080/",
     "height": 151
    },
    "colab_type": "code",
    "id": "DVICTPLOmKYW",
    "outputId": "5ca128cb-97e4-47ef-cdbf-74aec189f2e4"
   },
   "outputs": [],
   "source": [
    "(X_train, y_train), (X_test, y_test) = tf.keras.datasets.fashion_mnist.load_data()"
   ]
  },
  {
   "cell_type": "code",
   "execution_count": 17,
   "metadata": {},
   "outputs": [
    {
     "data": {
      "text/plain": [
       "(60000, 28, 28)"
      ]
     },
     "execution_count": 17,
     "metadata": {},
     "output_type": "execute_result"
    }
   ],
   "source": [
    "X_train.shape"
   ]
  },
  {
   "cell_type": "code",
   "execution_count": 18,
   "metadata": {},
   "outputs": [
    {
     "data": {
      "text/plain": [
       "(10000, 28, 28)"
      ]
     },
     "execution_count": 18,
     "metadata": {},
     "output_type": "execute_result"
    }
   ],
   "source": [
    "X_test.shape"
   ]
  },
  {
   "cell_type": "markdown",
   "metadata": {
    "colab_type": "text",
    "id": "H38yzWMAn7hu"
   },
   "source": [
    "### PERFORMING DATA PREPROCESSING"
   ]
  },
  {
   "cell_type": "code",
   "execution_count": 20,
   "metadata": {
    "colab": {},
    "colab_type": "code",
    "id": "_4H4UCGpn-sC"
   },
   "outputs": [],
   "source": [
    "# normalize data\n",
    "X_train = X_train / 255.0\n",
    "X_test = X_test / 255.0"
   ]
  },
  {
   "cell_type": "code",
   "execution_count": 31,
   "metadata": {
    "colab": {},
    "colab_type": "code",
    "id": "g2ctQnysn-qN"
   },
   "outputs": [],
   "source": [
    "noise_factor = 0.1\n",
    "noise_dataset = []\n",
    "for img in X_train:\n",
    "  noisy_image  = img + noise_factor * np.random.randn(*img.shape)\n",
    "  noisy_image = np.clip(noisy_image, 0., 1.)\n",
    "  noise_dataset.append(noisy_image)\n",
    "noise_dataset = np.array(noise_dataset)"
   ]
  },
  {
   "cell_type": "code",
   "execution_count": 45,
   "metadata": {},
   "outputs": [],
   "source": [
    "noise_test_dataset = []\n",
    "for img in X_test:\n",
    "  noisy_image = img + noise_factor * np.random.randn(*img.shape)\n",
    "  noisy_image = np.clip(noisy_image, 0., 1.)\n",
    "  noise_test_dataset.append(noisy_image)\n",
    "noise_test_dataset = np.array(noise_test_dataset)"
   ]
  },
  {
   "cell_type": "code",
   "execution_count": 46,
   "metadata": {
    "colab": {},
    "colab_type": "code",
    "id": "cKN0_eO6n-oF"
   },
   "outputs": [
    {
     "data": {
      "text/plain": [
       "(60000, 28, 28)"
      ]
     },
     "execution_count": 46,
     "metadata": {},
     "output_type": "execute_result"
    }
   ],
   "source": [
    "noise_dataset.shape"
   ]
  },
  {
   "cell_type": "code",
   "execution_count": 47,
   "metadata": {
    "colab": {
     "base_uri": "https://localhost:8080/",
     "height": 286
    },
    "colab_type": "code",
    "id": "On1wNvOWoHBT",
    "outputId": "e45fd4de-c6aa-455c-c6b2-aca76751e7ff"
   },
   "outputs": [
    {
     "data": {
      "text/plain": [
       "(10000, 28, 28)"
      ]
     },
     "execution_count": 47,
     "metadata": {},
     "output_type": "execute_result"
    }
   ],
   "source": [
    "noise_test_dataset.shape"
   ]
  },
  {
   "cell_type": "markdown",
   "metadata": {
    "colab_type": "text",
    "id": "zPcXYuTkoko7"
   },
   "source": [
    "### BUILDING AND TRAINING AUTOENCODER DEEP LEARNING MODEL"
   ]
  },
  {
   "cell_type": "code",
   "execution_count": 48,
   "metadata": {
    "colab": {},
    "colab_type": "code",
    "id": "tMMvZyIUfOhb"
   },
   "outputs": [],
   "source": [
    "autoencoder = tf.keras.models.Sequential()\n",
    "#Encoder\n",
    "autoencoder.add(tf.keras.layers.Conv2D(filters=16, kernel_size=3, strides=2, padding=\"same\", input_shape=(28, 28, 1)))\n",
    "autoencoder.add(tf.keras.layers.Conv2D(filters=8, kernel_size=3, strides=2, padding=\"same\"))\n",
    "\n",
    "#Encoded image\n",
    "autoencoder.add(tf.keras.layers.Conv2D(filters=8, kernel_size=3, strides=1, padding=\"same\"))\n",
    "\n",
    "#Decoder\n",
    "autoencoder.add(tf.keras.layers.Conv2DTranspose(filters=16, kernel_size=3, strides=2, padding=\"same\"))\n",
    "autoencoder.add(tf.keras.layers.Conv2DTranspose(filters=1, kernel_size=3, strides=2, activation='sigmoid', padding=\"same\"))\n"
   ]
  },
  {
   "cell_type": "code",
   "execution_count": 49,
   "metadata": {
    "colab": {
     "base_uri": "https://localhost:8080/",
     "height": 319
    },
    "colab_type": "code",
    "id": "rjYYeUU6rToW",
    "outputId": "111e0056-a0a1-4d67-c4c4-6af6e884480b"
   },
   "outputs": [
    {
     "name": "stdout",
     "output_type": "stream",
     "text": [
      "Model: \"sequential_3\"\n",
      "_________________________________________________________________\n",
      " Layer (type)                Output Shape              Param #   \n",
      "=================================================================\n",
      " conv2d_6 (Conv2D)           (None, 14, 14, 16)        160       \n",
      "                                                                 \n",
      " conv2d_7 (Conv2D)           (None, 7, 7, 8)           1160      \n",
      "                                                                 \n",
      " conv2d_8 (Conv2D)           (None, 7, 7, 8)           584       \n",
      "                                                                 \n",
      " conv2d_transpose_4 (Conv2DT  (None, 14, 14, 16)       1168      \n",
      " ranspose)                                                       \n",
      "                                                                 \n",
      " conv2d_transpose_5 (Conv2DT  (None, 28, 28, 1)        145       \n",
      " ranspose)                                                       \n",
      "                                                                 \n",
      "=================================================================\n",
      "Total params: 3,217\n",
      "Trainable params: 3,217\n",
      "Non-trainable params: 0\n",
      "_________________________________________________________________\n"
     ]
    }
   ],
   "source": [
    "autoencoder.compile(loss='binary_crossentropy', optimizer=tf.keras.optimizers.Adam(lr=0.001))\n",
    "autoencoder.summary()"
   ]
  },
  {
   "cell_type": "code",
   "execution_count": 50,
   "metadata": {
    "colab": {
     "base_uri": "https://localhost:8080/",
     "height": 1000
    },
    "colab_type": "code",
    "id": "2rLEIbQ0fZgs",
    "outputId": "266b2954-8b61-4f0e-af2b-b8b401d5c04a"
   },
   "outputs": [
    {
     "name": "stdout",
     "output_type": "stream",
     "text": [
      "Epoch 1/10\n",
      "300/300 [==============================] - 9s 27ms/step - loss: 0.3847 - val_loss: 0.3092\n",
      "Epoch 2/10\n",
      "300/300 [==============================] - 7s 22ms/step - loss: 0.2986 - val_loss: 0.2951\n",
      "Epoch 3/10\n",
      "300/300 [==============================] - 6s 21ms/step - loss: 0.2891 - val_loss: 0.2884\n",
      "Epoch 4/10\n",
      "300/300 [==============================] - 6s 21ms/step - loss: 0.2847 - val_loss: 0.2855\n",
      "Epoch 5/10\n",
      "300/300 [==============================] - 7s 22ms/step - loss: 0.2822 - val_loss: 0.2831\n",
      "Epoch 6/10\n",
      "300/300 [==============================] - 7s 22ms/step - loss: 0.2800 - val_loss: 0.2813\n",
      "Epoch 7/10\n",
      "300/300 [==============================] - 7s 22ms/step - loss: 0.2784 - val_loss: 0.2799\n",
      "Epoch 8/10\n",
      "300/300 [==============================] - 6s 21ms/step - loss: 0.2774 - val_loss: 0.2791\n",
      "Epoch 9/10\n",
      "300/300 [==============================] - 7s 22ms/step - loss: 0.2767 - val_loss: 0.2785\n",
      "Epoch 10/10\n",
      "300/300 [==============================] - 7s 22ms/step - loss: 0.2761 - val_loss: 0.2780\n"
     ]
    },
    {
     "data": {
      "text/plain": [
       "<keras.callbacks.History at 0x24b7feaa9d0>"
      ]
     },
     "execution_count": 50,
     "metadata": {},
     "output_type": "execute_result"
    }
   ],
   "source": [
    "autoencoder.fit(noise_dataset.reshape(-1, 28, 28, 1),\n",
    "               X_train.reshape(-1, 28, 28, 1),\n",
    "               epochs = 10,\n",
    "               batch_size = 200,\n",
    "               validation_data = (noise_test_dataset.reshape(-1, 28, 28, 1), X_test.reshape(-1, 28, 28, 1)))"
   ]
  },
  {
   "cell_type": "markdown",
   "metadata": {
    "colab_type": "text",
    "id": "0wR3uKW8g5po"
   },
   "source": [
    "# EVALUATING TRAINED MODEL PERFORMANCE"
   ]
  },
  {
   "cell_type": "code",
   "execution_count": 51,
   "metadata": {
    "colab": {},
    "colab_type": "code",
    "id": "lN7xWc_8tDoi"
   },
   "outputs": [
    {
     "name": "stdout",
     "output_type": "stream",
     "text": [
      "313/313 [==============================] - 1s 2ms/step - loss: 0.2780\n",
      "Test Accuracy : 0.278\n"
     ]
    }
   ],
   "source": [
    "evaluation = autoencoder.evaluate(noise_test_dataset.reshape(-1, 28, 28, 1), X_test.reshape(-1, 28, 28, 1))\n",
    "print('Test Accuracy : {:.3f}'.format(evaluation))"
   ]
  },
  {
   "cell_type": "code",
   "execution_count": 52,
   "metadata": {
    "colab": {
     "base_uri": "https://localhost:8080/",
     "height": 34
    },
    "colab_type": "code",
    "id": "IxLMzzPFtHFF",
    "outputId": "31ee3a85-bc2f-4e62-c225-cdb0396ea161"
   },
   "outputs": [
    {
     "name": "stdout",
     "output_type": "stream",
     "text": [
      "1/1 [==============================] - 0s 111ms/step\n"
     ]
    }
   ],
   "source": [
    "predicted = autoencoder.predict(noise_test_dataset[:10].reshape(-1, 28, 28, 1))"
   ]
  },
  {
   "cell_type": "code",
   "execution_count": 53,
   "metadata": {},
   "outputs": [
    {
     "data": {
      "text/plain": [
       "(10, 28, 28, 1)"
      ]
     },
     "execution_count": 53,
     "metadata": {},
     "output_type": "execute_result"
    }
   ],
   "source": [
    "predicted.shape"
   ]
  },
  {
   "cell_type": "code",
   "execution_count": 54,
   "metadata": {
    "colab": {
     "base_uri": "https://localhost:8080/",
     "height": 244
    },
    "colab_type": "code",
    "id": "HKHWvFmUtA6Q",
    "outputId": "e9dd6728-eeff-484d-b75f-d0773da8ef6f"
   },
   "outputs": [
    {
     "data": {
      "image/png": "[encoded data removed]",
      "text/plain": [
       "<Figure size 1440x288 with 20 Axes>"
      ]
     },
     "metadata": {
      "needs_background": "light"
     },
     "output_type": "display_data"
    }
   ],
   "source": [
    "fig, axes = plt.subplots(nrows=2, ncols=10, sharex=True, sharey=True, figsize=(20,4))\n",
    "for images, row in zip([noise_test_dataset[:10], predicted], axes):\n",
    "    for img, ax in zip(images, row):\n",
    "        ax.imshow(img.reshape((28, 28)), cmap='Greys_r')\n",
    "        ax.get_xaxis().set_visible(False)\n",
    "        ax.get_yaxis().set_visible(False)"
   ]
  }
 ],
 "metadata": {
  "accelerator": "GPU",
  "colab": {
   "collapsed_sections": [],
   "name": "Bonus 3 - AutoEncoders for Fashion Class Noise Removal.ipynb",
   "provenance": []
  },
  "kernelspec": {
   "display_name": "Python 3 (ipykernel)",
   "language": "python",
   "name": "python3"
  },
  "language_info": {
   "codemirror_mode": {
    "name": "ipython",
    "version": 3
   },
   "file_extension": ".py",
   "mimetype": "text/x-python",
   "name": "python",
   "nbconvert_exporter": "python",
   "pygments_lexer": "ipython3",
   "version": "3.9.12"
  }
 },
 "nbformat": 4,
 "nbformat_minor": 1
}
